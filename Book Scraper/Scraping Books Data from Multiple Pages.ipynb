{
 "cells": [
  {
   "cell_type": "code",
   "execution_count": 7,
   "id": "a4ec6ce4",
   "metadata": {},
   "outputs": [],
   "source": [
    "import pandas as pd\n",
    "import requests\n",
    "from tqdm import tqdm\n",
    "from bs4 import BeautifulSoup"
   ]
  },
  {
   "cell_type": "code",
   "execution_count": 8,
   "id": "c17bd5ab",
   "metadata": {},
   "outputs": [],
   "source": [
    "link = \"https://books.toscrape.com/catalogue/page-1.html\"\n",
    "res = requests.get(link)\n",
    "soup = BeautifulSoup(res.text, \"html.parser\")"
   ]
  },
  {
   "cell_type": "code",
   "execution_count": 10,
   "id": "c8c909cc",
   "metadata": {},
   "outputs": [
    {
     "name": "stderr",
     "output_type": "stream",
     "text": [
      "100%|██████████████████████████████████████████████████████████████████████████████████| 50/50 [01:06<00:00,  1.33s/it]\n"
     ]
    }
   ],
   "source": [
    "data = []\n",
    "\n",
    "for page in tqdm(range(1, 51)):\n",
    "    \n",
    "    link = \"https://books.toscrape.com/catalogue/page-\" + str(page) + \".html\"\n",
    "    res = requests.get(link)\n",
    "    soup = BeautifulSoup(res.text, \"html.parser\")\n",
    "    \n",
    "    for sp in soup.find_all(\"li\", class_ = \"col-xs-6 col-sm-4 col-md-3 col-lg-3\"):\n",
    "\n",
    "        img_link = \"https://books.toscrape.com/\" + sp.find(\"img\").get(\"src\")\n",
    "        book_link = \"https://books.toscrape.com/catalogue/\" + sp.find_all(\"a\")[-1].get('href')\n",
    "        title = sp.find_all(\"a\")[-1].get('title')\n",
    "        rating = sp.find(\"p\").get('class')[-1]\n",
    "        price = sp.find(\"p\", class_ = \"price_color\").text\n",
    "        stock = sp.find(\"p\", class_ = \"instock availability\").text.strip()\n",
    "\n",
    "        data.append([title, rating, price, stock, book_link, img_link])"
   ]
  },
  {
   "cell_type": "code",
   "execution_count": 11,
   "id": "fc0cddd1",
   "metadata": {},
   "outputs": [
    {
     "data": {
      "text/plain": [
       "1000"
      ]
     },
     "execution_count": 11,
     "metadata": {},
     "output_type": "execute_result"
    }
   ],
   "source": [
    "len(data)"
   ]
  },
  {
   "cell_type": "code",
   "execution_count": 15,
   "id": "b60857c7",
   "metadata": {},
   "outputs": [],
   "source": [
    "df = pd.DataFrame(data, columns = [\"Title\", \"Rating\", \"Price\", \"Stocks\", \"Book_link\", \"Image_link\"])"
   ]
  },
  {
   "cell_type": "code",
   "execution_count": 16,
   "id": "ab8313fb",
   "metadata": {},
   "outputs": [
    {
     "data": {
      "text/html": [
       "<div>\n",
       "<style scoped>\n",
       "    .dataframe tbody tr th:only-of-type {\n",
       "        vertical-align: middle;\n",
       "    }\n",
       "\n",
       "    .dataframe tbody tr th {\n",
       "        vertical-align: top;\n",
       "    }\n",
       "\n",
       "    .dataframe thead th {\n",
       "        text-align: right;\n",
       "    }\n",
       "</style>\n",
       "<table border=\"1\" class=\"dataframe\">\n",
       "  <thead>\n",
       "    <tr style=\"text-align: right;\">\n",
       "      <th></th>\n",
       "      <th>Title</th>\n",
       "      <th>Rating</th>\n",
       "      <th>Price</th>\n",
       "      <th>Stocks</th>\n",
       "      <th>Book_link</th>\n",
       "      <th>Image_link</th>\n",
       "    </tr>\n",
       "  </thead>\n",
       "  <tbody>\n",
       "    <tr>\n",
       "      <th>0</th>\n",
       "      <td>A Light in the Attic</td>\n",
       "      <td>Three</td>\n",
       "      <td>Â£51.77</td>\n",
       "      <td>In stock</td>\n",
       "      <td>https://books.toscrape.com/catalogue/a-light-i...</td>\n",
       "      <td>https://books.toscrape.com/../media/cache/2c/d...</td>\n",
       "    </tr>\n",
       "    <tr>\n",
       "      <th>1</th>\n",
       "      <td>Tipping the Velvet</td>\n",
       "      <td>One</td>\n",
       "      <td>Â£53.74</td>\n",
       "      <td>In stock</td>\n",
       "      <td>https://books.toscrape.com/catalogue/tipping-t...</td>\n",
       "      <td>https://books.toscrape.com/../media/cache/26/0...</td>\n",
       "    </tr>\n",
       "    <tr>\n",
       "      <th>2</th>\n",
       "      <td>Soumission</td>\n",
       "      <td>One</td>\n",
       "      <td>Â£50.10</td>\n",
       "      <td>In stock</td>\n",
       "      <td>https://books.toscrape.com/catalogue/soumissio...</td>\n",
       "      <td>https://books.toscrape.com/../media/cache/3e/e...</td>\n",
       "    </tr>\n",
       "    <tr>\n",
       "      <th>3</th>\n",
       "      <td>Sharp Objects</td>\n",
       "      <td>Four</td>\n",
       "      <td>Â£47.82</td>\n",
       "      <td>In stock</td>\n",
       "      <td>https://books.toscrape.com/catalogue/sharp-obj...</td>\n",
       "      <td>https://books.toscrape.com/../media/cache/32/5...</td>\n",
       "    </tr>\n",
       "    <tr>\n",
       "      <th>4</th>\n",
       "      <td>Sapiens: A Brief History of Humankind</td>\n",
       "      <td>Five</td>\n",
       "      <td>Â£54.23</td>\n",
       "      <td>In stock</td>\n",
       "      <td>https://books.toscrape.com/catalogue/sapiens-a...</td>\n",
       "      <td>https://books.toscrape.com/../media/cache/be/a...</td>\n",
       "    </tr>\n",
       "    <tr>\n",
       "      <th>...</th>\n",
       "      <td>...</td>\n",
       "      <td>...</td>\n",
       "      <td>...</td>\n",
       "      <td>...</td>\n",
       "      <td>...</td>\n",
       "      <td>...</td>\n",
       "    </tr>\n",
       "    <tr>\n",
       "      <th>995</th>\n",
       "      <td>Alice in Wonderland (Alice's Adventures in Won...</td>\n",
       "      <td>One</td>\n",
       "      <td>Â£55.53</td>\n",
       "      <td>In stock</td>\n",
       "      <td>https://books.toscrape.com/catalogue/alice-in-...</td>\n",
       "      <td>https://books.toscrape.com/../media/cache/96/e...</td>\n",
       "    </tr>\n",
       "    <tr>\n",
       "      <th>996</th>\n",
       "      <td>Ajin: Demi-Human, Volume 1 (Ajin: Demi-Human #1)</td>\n",
       "      <td>Four</td>\n",
       "      <td>Â£57.06</td>\n",
       "      <td>In stock</td>\n",
       "      <td>https://books.toscrape.com/catalogue/ajin-demi...</td>\n",
       "      <td>https://books.toscrape.com/../media/cache/09/7...</td>\n",
       "    </tr>\n",
       "    <tr>\n",
       "      <th>997</th>\n",
       "      <td>A Spy's Devotion (The Regency Spies of London #1)</td>\n",
       "      <td>Five</td>\n",
       "      <td>Â£16.97</td>\n",
       "      <td>In stock</td>\n",
       "      <td>https://books.toscrape.com/catalogue/a-spys-de...</td>\n",
       "      <td>https://books.toscrape.com/../media/cache/1b/5...</td>\n",
       "    </tr>\n",
       "    <tr>\n",
       "      <th>998</th>\n",
       "      <td>1st to Die (Women's Murder Club #1)</td>\n",
       "      <td>One</td>\n",
       "      <td>Â£53.98</td>\n",
       "      <td>In stock</td>\n",
       "      <td>https://books.toscrape.com/catalogue/1st-to-di...</td>\n",
       "      <td>https://books.toscrape.com/../media/cache/2b/4...</td>\n",
       "    </tr>\n",
       "    <tr>\n",
       "      <th>999</th>\n",
       "      <td>1,000 Places to See Before You Die</td>\n",
       "      <td>Five</td>\n",
       "      <td>Â£26.08</td>\n",
       "      <td>In stock</td>\n",
       "      <td>https://books.toscrape.com/catalogue/1000-plac...</td>\n",
       "      <td>https://books.toscrape.com/../media/cache/d7/0...</td>\n",
       "    </tr>\n",
       "  </tbody>\n",
       "</table>\n",
       "<p>1000 rows × 6 columns</p>\n",
       "</div>"
      ],
      "text/plain": [
       "                                                 Title Rating    Price  \\\n",
       "0                                 A Light in the Attic  Three  Â£51.77   \n",
       "1                                   Tipping the Velvet    One  Â£53.74   \n",
       "2                                           Soumission    One  Â£50.10   \n",
       "3                                        Sharp Objects   Four  Â£47.82   \n",
       "4                Sapiens: A Brief History of Humankind   Five  Â£54.23   \n",
       "..                                                 ...    ...      ...   \n",
       "995  Alice in Wonderland (Alice's Adventures in Won...    One  Â£55.53   \n",
       "996   Ajin: Demi-Human, Volume 1 (Ajin: Demi-Human #1)   Four  Â£57.06   \n",
       "997  A Spy's Devotion (The Regency Spies of London #1)   Five  Â£16.97   \n",
       "998                1st to Die (Women's Murder Club #1)    One  Â£53.98   \n",
       "999                 1,000 Places to See Before You Die   Five  Â£26.08   \n",
       "\n",
       "       Stocks                                          Book_link  \\\n",
       "0    In stock  https://books.toscrape.com/catalogue/a-light-i...   \n",
       "1    In stock  https://books.toscrape.com/catalogue/tipping-t...   \n",
       "2    In stock  https://books.toscrape.com/catalogue/soumissio...   \n",
       "3    In stock  https://books.toscrape.com/catalogue/sharp-obj...   \n",
       "4    In stock  https://books.toscrape.com/catalogue/sapiens-a...   \n",
       "..        ...                                                ...   \n",
       "995  In stock  https://books.toscrape.com/catalogue/alice-in-...   \n",
       "996  In stock  https://books.toscrape.com/catalogue/ajin-demi...   \n",
       "997  In stock  https://books.toscrape.com/catalogue/a-spys-de...   \n",
       "998  In stock  https://books.toscrape.com/catalogue/1st-to-di...   \n",
       "999  In stock  https://books.toscrape.com/catalogue/1000-plac...   \n",
       "\n",
       "                                            Image_link  \n",
       "0    https://books.toscrape.com/../media/cache/2c/d...  \n",
       "1    https://books.toscrape.com/../media/cache/26/0...  \n",
       "2    https://books.toscrape.com/../media/cache/3e/e...  \n",
       "3    https://books.toscrape.com/../media/cache/32/5...  \n",
       "4    https://books.toscrape.com/../media/cache/be/a...  \n",
       "..                                                 ...  \n",
       "995  https://books.toscrape.com/../media/cache/96/e...  \n",
       "996  https://books.toscrape.com/../media/cache/09/7...  \n",
       "997  https://books.toscrape.com/../media/cache/1b/5...  \n",
       "998  https://books.toscrape.com/../media/cache/2b/4...  \n",
       "999  https://books.toscrape.com/../media/cache/d7/0...  \n",
       "\n",
       "[1000 rows x 6 columns]"
      ]
     },
     "execution_count": 16,
     "metadata": {},
     "output_type": "execute_result"
    }
   ],
   "source": [
    "df"
   ]
  },
  {
   "cell_type": "code",
   "execution_count": 17,
   "id": "1881165b",
   "metadata": {},
   "outputs": [],
   "source": [
    "df.to_csv(\"Books Deatils.csv\")"
   ]
  },
  {
   "cell_type": "code",
   "execution_count": null,
   "id": "f34cf153",
   "metadata": {},
   "outputs": [],
   "source": []
  },
  {
   "cell_type": "code",
   "execution_count": null,
   "id": "14551b7d",
   "metadata": {},
   "outputs": [],
   "source": []
  }
 ],
 "metadata": {
  "kernelspec": {
   "display_name": "Python 3 (ipykernel)",
   "language": "python",
   "name": "python3"
  },
  "language_info": {
   "codemirror_mode": {
    "name": "ipython",
    "version": 3
   },
   "file_extension": ".py",
   "mimetype": "text/x-python",
   "name": "python",
   "nbconvert_exporter": "python",
   "pygments_lexer": "ipython3",
   "version": "3.10.6"
  }
 },
 "nbformat": 4,
 "nbformat_minor": 5
}

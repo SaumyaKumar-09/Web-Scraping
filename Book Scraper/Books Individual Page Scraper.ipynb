{
 "cells": [
  {
   "cell_type": "code",
   "execution_count": 1,
   "id": "50c2fb57",
   "metadata": {},
   "outputs": [],
   "source": [
    "import requests\n",
    "from tqdm import tqdm\n",
    "import pandas as pd\n",
    "from bs4 import BeautifulSoup"
   ]
  },
  {
   "cell_type": "code",
   "execution_count": 6,
   "id": "e101c8cf",
   "metadata": {},
   "outputs": [],
   "source": [
    "df = pd.read_csv(\"Books Details.csv\")"
   ]
  },
  {
   "cell_type": "code",
   "execution_count": 19,
   "id": "a12ac9c8",
   "metadata": {},
   "outputs": [
    {
     "name": "stderr",
     "output_type": "stream",
     "text": [
      "100%|██████████████████████████████████████████████████████████████████████████████| 1000/1000 [17:34<00:00,  1.05s/it]\n"
     ]
    }
   ],
   "source": [
    "data = []\n",
    "\n",
    "for link in tqdm(df.Book_link):\n",
    "    res = requests.get(link)\n",
    "    soup = BeautifulSoup(res.text, \"html.parser\")\n",
    "    \n",
    "    ptype    = soup.find(\"ul\", class_ = \"breadcrumb\").find_all(\"a\")[2].text\n",
    "    \n",
    "    temp     = soup.find(\"table\", class_ = \"table table-striped\").find_all(\"td\")\n",
    "    upc      = temp[0].text\n",
    "    price_x  = temp[2].text[2 : ]\n",
    "    price_i  = temp[3].text[2 : ]\n",
    "    tax      = temp[4].text[2 : ]\n",
    "    quantity = temp[5].text\n",
    "    reviews  = temp[6].text\n",
    "    \n",
    "    data.append([ptype, upc, price_x, price_i, tax, quantity, reviews])"
   ]
  },
  {
   "cell_type": "code",
   "execution_count": 20,
   "id": "60e0043e",
   "metadata": {},
   "outputs": [
    {
     "data": {
      "text/plain": [
       "1000"
      ]
     },
     "execution_count": 20,
     "metadata": {},
     "output_type": "execute_result"
    }
   ],
   "source": [
    "len(data)"
   ]
  },
  {
   "cell_type": "code",
   "execution_count": 21,
   "id": "dda821a4",
   "metadata": {},
   "outputs": [],
   "source": [
    "new_df = pd.DataFrame(data, columns = [\"Type\", \"UPC\", \"Price_excluding_tax\", \"Price_including_tax\", \"Tax\", \"Quantity\", \"Reviews\"])"
   ]
  },
  {
   "cell_type": "code",
   "execution_count": 22,
   "id": "5593ad8a",
   "metadata": {},
   "outputs": [
    {
     "data": {
      "text/html": [
       "<div>\n",
       "<style scoped>\n",
       "    .dataframe tbody tr th:only-of-type {\n",
       "        vertical-align: middle;\n",
       "    }\n",
       "\n",
       "    .dataframe tbody tr th {\n",
       "        vertical-align: top;\n",
       "    }\n",
       "\n",
       "    .dataframe thead th {\n",
       "        text-align: right;\n",
       "    }\n",
       "</style>\n",
       "<table border=\"1\" class=\"dataframe\">\n",
       "  <thead>\n",
       "    <tr style=\"text-align: right;\">\n",
       "      <th></th>\n",
       "      <th>Type</th>\n",
       "      <th>UPC</th>\n",
       "      <th>Price_excluding_tax</th>\n",
       "      <th>Price_including_tax</th>\n",
       "      <th>Tax</th>\n",
       "      <th>Quantity</th>\n",
       "      <th>Reviews</th>\n",
       "    </tr>\n",
       "  </thead>\n",
       "  <tbody>\n",
       "    <tr>\n",
       "      <th>0</th>\n",
       "      <td>Poetry</td>\n",
       "      <td>a897fe39b1053632</td>\n",
       "      <td>51.77</td>\n",
       "      <td>51.77</td>\n",
       "      <td>0.00</td>\n",
       "      <td>In stock (22 available)</td>\n",
       "      <td>0</td>\n",
       "    </tr>\n",
       "    <tr>\n",
       "      <th>1</th>\n",
       "      <td>Historical Fiction</td>\n",
       "      <td>90fa61229261140a</td>\n",
       "      <td>53.74</td>\n",
       "      <td>53.74</td>\n",
       "      <td>0.00</td>\n",
       "      <td>In stock (20 available)</td>\n",
       "      <td>0</td>\n",
       "    </tr>\n",
       "    <tr>\n",
       "      <th>2</th>\n",
       "      <td>Fiction</td>\n",
       "      <td>6957f44c3847a760</td>\n",
       "      <td>50.10</td>\n",
       "      <td>50.10</td>\n",
       "      <td>0.00</td>\n",
       "      <td>In stock (20 available)</td>\n",
       "      <td>0</td>\n",
       "    </tr>\n",
       "    <tr>\n",
       "      <th>3</th>\n",
       "      <td>Mystery</td>\n",
       "      <td>e00eb4fd7b871a48</td>\n",
       "      <td>47.82</td>\n",
       "      <td>47.82</td>\n",
       "      <td>0.00</td>\n",
       "      <td>In stock (20 available)</td>\n",
       "      <td>0</td>\n",
       "    </tr>\n",
       "    <tr>\n",
       "      <th>4</th>\n",
       "      <td>History</td>\n",
       "      <td>4165285e1663650f</td>\n",
       "      <td>54.23</td>\n",
       "      <td>54.23</td>\n",
       "      <td>0.00</td>\n",
       "      <td>In stock (20 available)</td>\n",
       "      <td>0</td>\n",
       "    </tr>\n",
       "  </tbody>\n",
       "</table>\n",
       "</div>"
      ],
      "text/plain": [
       "                 Type               UPC Price_excluding_tax  \\\n",
       "0              Poetry  a897fe39b1053632               51.77   \n",
       "1  Historical Fiction  90fa61229261140a               53.74   \n",
       "2             Fiction  6957f44c3847a760               50.10   \n",
       "3             Mystery  e00eb4fd7b871a48               47.82   \n",
       "4             History  4165285e1663650f               54.23   \n",
       "\n",
       "  Price_including_tax   Tax                 Quantity Reviews  \n",
       "0               51.77  0.00  In stock (22 available)       0  \n",
       "1               53.74  0.00  In stock (20 available)       0  \n",
       "2               50.10  0.00  In stock (20 available)       0  \n",
       "3               47.82  0.00  In stock (20 available)       0  \n",
       "4               54.23  0.00  In stock (20 available)       0  "
      ]
     },
     "execution_count": 22,
     "metadata": {},
     "output_type": "execute_result"
    }
   ],
   "source": [
    "new_df.head()"
   ]
  },
  {
   "cell_type": "code",
   "execution_count": 23,
   "id": "98497d32",
   "metadata": {},
   "outputs": [
    {
     "data": {
      "text/plain": [
       "Type                   0\n",
       "UPC                    0\n",
       "Price_excluding_tax    0\n",
       "Price_including_tax    0\n",
       "Tax                    0\n",
       "Quantity               0\n",
       "Reviews                0\n",
       "dtype: int64"
      ]
     },
     "execution_count": 23,
     "metadata": {},
     "output_type": "execute_result"
    }
   ],
   "source": [
    "new_df.isnull().sum()"
   ]
  },
  {
   "cell_type": "code",
   "execution_count": 24,
   "id": "b983519f",
   "metadata": {},
   "outputs": [],
   "source": [
    "new_df.to_csv(\"Individual Book details.csv\")"
   ]
  },
  {
   "cell_type": "code",
   "execution_count": null,
   "id": "8b74495f",
   "metadata": {},
   "outputs": [],
   "source": []
  },
  {
   "cell_type": "code",
   "execution_count": null,
   "id": "7ccff847",
   "metadata": {},
   "outputs": [],
   "source": []
  }
 ],
 "metadata": {
  "kernelspec": {
   "display_name": "Python 3 (ipykernel)",
   "language": "python",
   "name": "python3"
  },
  "language_info": {
   "codemirror_mode": {
    "name": "ipython",
    "version": 3
   },
   "file_extension": ".py",
   "mimetype": "text/x-python",
   "name": "python",
   "nbconvert_exporter": "python",
   "pygments_lexer": "ipython3",
   "version": "3.10.6"
  }
 },
 "nbformat": 4,
 "nbformat_minor": 5
}

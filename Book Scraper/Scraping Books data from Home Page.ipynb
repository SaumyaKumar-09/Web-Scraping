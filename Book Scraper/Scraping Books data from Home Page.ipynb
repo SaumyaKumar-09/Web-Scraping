{
 "cells": [
  {
   "cell_type": "code",
   "execution_count": 70,
   "id": "109884fe",
   "metadata": {},
   "outputs": [],
   "source": [
    "import pandas as pd\n",
    "import requests\n",
    "from bs4 import BeautifulSoup"
   ]
  },
  {
   "cell_type": "code",
   "execution_count": 71,
   "id": "8e2b585a",
   "metadata": {},
   "outputs": [],
   "source": [
    "link = \"https://books.toscrape.com/catalogue/page-1.html\"\n",
    "res = requests.get(link)\n",
    "soup = BeautifulSoup(res.text, \"html.parser\")"
   ]
  },
  {
   "cell_type": "code",
   "execution_count": 72,
   "id": "7f29ab96",
   "metadata": {},
   "outputs": [],
   "source": [
    "data = []\n",
    "\n",
    "for sp in soup.find_all(\"li\", class_ = \"col-xs-6 col-sm-4 col-md-3 col-lg-3\"):\n",
    "    \n",
    "    img_link = \"https://books.toscrape.com/\" + sp.find(\"img\").get(\"src\")\n",
    "    book_link = \"https://books.toscrape.com/catalogue/\" + sp.find_all(\"a\")[-1].get('href')\n",
    "    title = sp.find_all(\"a\")[-1].get('title')\n",
    "    rating = sp.find(\"p\").get('class')[-1]\n",
    "    price = sp.find(\"p\", class_ = \"price_color\").text\n",
    "    stock = sp.find(\"p\", class_ = \"instock availability\").text.strip()\n",
    "    \n",
    "    data.append([title, rating, price, stock, book_link, img_link])"
   ]
  },
  {
   "cell_type": "code",
   "execution_count": null,
   "id": "276faeda",
   "metadata": {},
   "outputs": [],
   "source": []
  },
  {
   "cell_type": "code",
   "execution_count": null,
   "id": "9b7f1a00",
   "metadata": {},
   "outputs": [],
   "source": []
  }
 ],
 "metadata": {
  "kernelspec": {
   "display_name": "Python 3 (ipykernel)",
   "language": "python",
   "name": "python3"
  },
  "language_info": {
   "codemirror_mode": {
    "name": "ipython",
    "version": 3
   },
   "file_extension": ".py",
   "mimetype": "text/x-python",
   "name": "python",
   "nbconvert_exporter": "python",
   "pygments_lexer": "ipython3",
   "version": "3.10.6"
  }
 },
 "nbformat": 4,
 "nbformat_minor": 5
}

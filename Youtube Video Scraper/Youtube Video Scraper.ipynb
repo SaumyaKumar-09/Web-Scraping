{
 "cells": [
  {
   "cell_type": "markdown",
   "id": "f08c1a85",
   "metadata": {},
   "source": [
    "### Import Libraries"
   ]
  },
  {
   "cell_type": "code",
   "execution_count": 101,
   "id": "8d5db6ce",
   "metadata": {},
   "outputs": [],
   "source": [
    "import requests\n",
    "from bs4 import BeautifulSoup\n",
    "from selenium import webdriver\n",
    "import chromedriver_binary\n",
    "import pandas as pd\n",
    "import numpy as np\n",
    "import time\n",
    "from tqdm import tqdm"
   ]
  },
  {
   "cell_type": "markdown",
   "id": "e05bbc0e",
   "metadata": {},
   "source": [
    "### Connecting Web Driver"
   ]
  },
  {
   "cell_type": "code",
   "execution_count": 102,
   "id": "a2d9ab01",
   "metadata": {},
   "outputs": [],
   "source": [
    "browser = webdriver.Edge()"
   ]
  },
  {
   "cell_type": "markdown",
   "id": "736b72d2",
   "metadata": {},
   "source": [
    "### Reading Video Dataset"
   ]
  },
  {
   "cell_type": "code",
   "execution_count": 103,
   "id": "8f426a7a",
   "metadata": {},
   "outputs": [],
   "source": [
    "df = pd.read_csv(\"youtube_data.csv\")"
   ]
  },
  {
   "cell_type": "code",
   "execution_count": 104,
   "id": "9c766146",
   "metadata": {},
   "outputs": [
    {
     "data": {
      "text/html": [
       "<div>\n",
       "<style scoped>\n",
       "    .dataframe tbody tr th:only-of-type {\n",
       "        vertical-align: middle;\n",
       "    }\n",
       "\n",
       "    .dataframe tbody tr th {\n",
       "        vertical-align: top;\n",
       "    }\n",
       "\n",
       "    .dataframe thead th {\n",
       "        text-align: right;\n",
       "    }\n",
       "</style>\n",
       "<table border=\"1\" class=\"dataframe\">\n",
       "  <thead>\n",
       "    <tr style=\"text-align: right;\">\n",
       "      <th></th>\n",
       "      <th>Unnamed: 0</th>\n",
       "      <th>title</th>\n",
       "      <th>video_link</th>\n",
       "      <th>image_link</th>\n",
       "      <th>duration</th>\n",
       "      <th>views</th>\n",
       "      <th>upload_time</th>\n",
       "      <th>date_of_extraction</th>\n",
       "    </tr>\n",
       "  </thead>\n",
       "  <tbody>\n",
       "    <tr>\n",
       "      <th>0</th>\n",
       "      <td>0</td>\n",
       "      <td>GfG 160 | 160 Days Daily DSA Problem Solving |...</td>\n",
       "      <td>https://www.youtube.com/watch?v=puDKP5_0Ol4</td>\n",
       "      <td>https://i.ytimg.com/vi/puDKP5_0Ol4/hqdefault.jpg</td>\n",
       "      <td>1:06</td>\n",
       "      <td>669 views</td>\n",
       "      <td>7 hours ago</td>\n",
       "      <td>2024-11-16</td>\n",
       "    </tr>\n",
       "    <tr>\n",
       "      <th>1</th>\n",
       "      <td>1</td>\n",
       "      <td>From Tier 3 College to Qualcomm as a Software ...</td>\n",
       "      <td>https://www.youtube.com/watch?v=1TnVdzwbzJo</td>\n",
       "      <td>https://i.ytimg.com/vi/1TnVdzwbzJo/hqdefault.jpg</td>\n",
       "      <td>19:15</td>\n",
       "      <td>678 views</td>\n",
       "      <td>1 day ago</td>\n",
       "      <td>2024-11-16</td>\n",
       "    </tr>\n",
       "    <tr>\n",
       "      <th>2</th>\n",
       "      <td>2</td>\n",
       "      <td>Why you will not get placed? | Save yourself Now</td>\n",
       "      <td>https://www.youtube.com/watch?v=b-6rmk233DU</td>\n",
       "      <td>https://i.ytimg.com/vi/b-6rmk233DU/hqdefault.jpg</td>\n",
       "      <td>7:00</td>\n",
       "      <td>1.7K views</td>\n",
       "      <td>4 days ago</td>\n",
       "      <td>2024-11-16</td>\n",
       "    </tr>\n",
       "    <tr>\n",
       "      <th>3</th>\n",
       "      <td>3</td>\n",
       "      <td>Y.O.G.I. | Your Own GeeksforGeeks Intelligence...</td>\n",
       "      <td>https://www.youtube.com/watch?v=rfyhmQYEJKE</td>\n",
       "      <td>https://i.ytimg.com/vi/rfyhmQYEJKE/hqdefault.jpg</td>\n",
       "      <td>0:42</td>\n",
       "      <td>856 views</td>\n",
       "      <td>4 days ago</td>\n",
       "      <td>2024-11-16</td>\n",
       "    </tr>\n",
       "    <tr>\n",
       "      <th>4</th>\n",
       "      <td>4</td>\n",
       "      <td>GeeksforGeeks Offline Classes- Visit for Free ...</td>\n",
       "      <td>https://www.youtube.com/watch?v=hDfjzq9m5vI</td>\n",
       "      <td>https://i.ytimg.com/vi/hDfjzq9m5vI/hqdefault.jpg</td>\n",
       "      <td>0:57</td>\n",
       "      <td>49K views</td>\n",
       "      <td>9 days ago</td>\n",
       "      <td>2024-11-16</td>\n",
       "    </tr>\n",
       "  </tbody>\n",
       "</table>\n",
       "</div>"
      ],
      "text/plain": [
       "   Unnamed: 0                                              title  \\\n",
       "0           0  GfG 160 | 160 Days Daily DSA Problem Solving |...   \n",
       "1           1  From Tier 3 College to Qualcomm as a Software ...   \n",
       "2           2   Why you will not get placed? | Save yourself Now   \n",
       "3           3  Y.O.G.I. | Your Own GeeksforGeeks Intelligence...   \n",
       "4           4  GeeksforGeeks Offline Classes- Visit for Free ...   \n",
       "\n",
       "                                    video_link  \\\n",
       "0  https://www.youtube.com/watch?v=puDKP5_0Ol4   \n",
       "1  https://www.youtube.com/watch?v=1TnVdzwbzJo   \n",
       "2  https://www.youtube.com/watch?v=b-6rmk233DU   \n",
       "3  https://www.youtube.com/watch?v=rfyhmQYEJKE   \n",
       "4  https://www.youtube.com/watch?v=hDfjzq9m5vI   \n",
       "\n",
       "                                         image_link duration       views  \\\n",
       "0  https://i.ytimg.com/vi/puDKP5_0Ol4/hqdefault.jpg     1:06   669 views   \n",
       "1  https://i.ytimg.com/vi/1TnVdzwbzJo/hqdefault.jpg    19:15   678 views   \n",
       "2  https://i.ytimg.com/vi/b-6rmk233DU/hqdefault.jpg     7:00  1.7K views   \n",
       "3  https://i.ytimg.com/vi/rfyhmQYEJKE/hqdefault.jpg     0:42   856 views   \n",
       "4  https://i.ytimg.com/vi/hDfjzq9m5vI/hqdefault.jpg     0:57   49K views   \n",
       "\n",
       "   upload_time date_of_extraction  \n",
       "0  7 hours ago         2024-11-16  \n",
       "1    1 day ago         2024-11-16  \n",
       "2   4 days ago         2024-11-16  \n",
       "3   4 days ago         2024-11-16  \n",
       "4   9 days ago         2024-11-16  "
      ]
     },
     "execution_count": 104,
     "metadata": {},
     "output_type": "execute_result"
    }
   ],
   "source": [
    "df.head()"
   ]
  },
  {
   "cell_type": "code",
   "execution_count": null,
   "id": "364c040e",
   "metadata": {},
   "outputs": [],
   "source": []
  },
  {
   "cell_type": "code",
   "execution_count": 105,
   "id": "9d9f138c",
   "metadata": {},
   "outputs": [
    {
     "name": "stderr",
     "output_type": "stream",
     "text": [
      "Processing:   0%|                                                                  | 1/1906 [00:20<11:05:20, 20.96s/it]"
     ]
    },
    {
     "name": "stdout",
     "output_type": "stream",
     "text": [
      "['GfG 160 | 160 Days Daily DSA Problem Solving | GeeksforGeeks', 'Nov 15, 2024', nan, '885 views', 'https://www.youtube.com/watch?v=puDKP5_0Ol4', nan]\n"
     ]
    },
    {
     "name": "stderr",
     "output_type": "stream",
     "text": [
      "\r",
      "Processing:   0%|                                                                   | 2/1906 [00:31<7:58:59, 15.09s/it]"
     ]
    },
    {
     "name": "stdout",
     "output_type": "stream",
     "text": [
      "['From Tier 3 College to Qualcomm as a Software Developer | Resume , Mistakes , Projects , Interview', 'Nov 14, 2024', nan, '678 views', 'https://www.youtube.com/watch?v=1TnVdzwbzJo', nan]\n"
     ]
    },
    {
     "name": "stderr",
     "output_type": "stream",
     "text": [
      "\r",
      "Processing:   0%|                                                                   | 3/1906 [00:42<6:56:44, 13.14s/it]"
     ]
    },
    {
     "name": "stdout",
     "output_type": "stream",
     "text": [
      "['Why you will not get placed? | Save yourself Now', 'Nov 11, 2024', nan, '1,766 views', 'https://www.youtube.com/watch?v=b-6rmk233DU', nan]\n"
     ]
    },
    {
     "name": "stderr",
     "output_type": "stream",
     "text": [
      "\r",
      "Processing:   0%|▏                                                                  | 4/1906 [00:53<6:22:44, 12.07s/it]"
     ]
    },
    {
     "name": "stdout",
     "output_type": "stream",
     "text": [
      "['Y.O.G.I. | Your Own GeeksforGeeks Intelligence | Access to 7+ Features with GeeksforGeeks Premium', 'Nov 11, 2024', nan, '856 views', 'https://www.youtube.com/watch?v=rfyhmQYEJKE', nan]\n"
     ]
    },
    {
     "name": "stderr",
     "output_type": "stream",
     "text": [
      "\r",
      "Processing:   0%|▏                                                                  | 5/1906 [01:04<6:08:48, 11.64s/it]"
     ]
    },
    {
     "name": "stdout",
     "output_type": "stream",
     "text": [
      "['GeeksforGeeks Offline Classes- Visit for Free Counselling | Now in Delhi/NCR, Bengaluru, Pune', 'Nov 6, 2024', nan, '50,364 views', 'https://www.youtube.com/watch?v=hDfjzq9m5vI', nan]\n"
     ]
    },
    {
     "name": "stderr",
     "output_type": "stream",
     "text": [
      "\r",
      "Processing:   0%|▏                                                                  | 6/1906 [01:14<5:57:27, 11.29s/it]"
     ]
    },
    {
     "name": "stdout",
     "output_type": "stream",
     "text": [
      "['Get Placed and make the Biggest Comeback of your Life | The Ultimate Roadmap', 'Nov 1, 2024', nan, '3,875 views', 'https://www.youtube.com/watch?v=A7_iaBNOxSU', nan]\n"
     ]
    },
    {
     "name": "stderr",
     "output_type": "stream",
     "text": [
      "\r",
      "Processing:   0%|▏                                                                  | 7/1906 [01:25<5:53:54, 11.18s/it]"
     ]
    },
    {
     "name": "stdout",
     "output_type": "stream",
     "text": [
      "['Get a Job as a Data Analyst before 2025 starts | *Free Resources Inside* | Complete Roadmap', 'Oct 29, 2024', nan, '3,035 views', 'https://www.youtube.com/watch?v=FyHidTTNXJ8', nan]\n"
     ]
    },
    {
     "name": "stderr",
     "output_type": "stream",
     "text": [
      "\r",
      "Processing:   0%|▎                                                                  | 8/1906 [01:37<5:56:41, 11.28s/it]"
     ]
    },
    {
     "name": "stdout",
     "output_type": "stream",
     "text": [
      "['How I would learn to code (if i could start over) | 18 LPA+ Package', 'Oct 28, 2024', nan, '1,913 views', 'https://www.youtube.com/watch?v=Bq4TH-OhqY0', nan]\n"
     ]
    },
    {
     "name": "stderr",
     "output_type": "stream",
     "text": [
      "Processing:   0%|▎                                                                  | 8/1906 [01:45<6:55:32, 13.14s/it]\n"
     ]
    },
    {
     "ename": "NoSuchWindowException",
     "evalue": "Message: no such window: target window already closed\nfrom unknown error: web view not found\n  (Session info: MicrosoftEdge=130.0.2849.80)\nStacktrace:\n\tGetHandleVerifier [0x00007FF6B67EDC85+12853]\n\tMicrosoft::Applications::Events::EventProperty::empty [0x00007FF6B6A983E4+2250292]\n\tMicrosoft::Applications::Events::EventProperty::empty [0x00007FF6B69D76B6+1460486]\n\t(No symbol) [0x00007FF6B65884C7]\n\t(No symbol) [0x00007FF6B660CBED]\n\t(No symbol) [0x00007FF6B6620D7A]\n\t(No symbol) [0x00007FF6B6608163]\n\t(No symbol) [0x00007FF6B65DFB54]\n\t(No symbol) [0x00007FF6B65DF000]\n\t(No symbol) [0x00007FF6B65DF741]\n\tMicrosoft::Applications::Events::EventProperty::empty [0x00007FF6B696CDC4+1024020]\n\tMicrosoft::Applications::Events::EventProperty::~EventProperty [0x00007FF6B6709A04+57108]\n\tMicrosoft::Applications::Events::EventProperty::empty [0x00007FF6B696BDC3+1019923]\n\tMicrosoft::Applications::Events::EventProperty::empty [0x00007FF6B696BA29+1019001]\n\tMicrosoft::Applications::Events::ILogConfiguration::operator* [0x00007FF6B678E041+394913]\n\tMicrosoft::Applications::Events::ILogConfiguration::operator* [0x00007FF6B678A964+380868]\n\tMicrosoft::Applications::Events::ILogConfiguration::operator* [0x00007FF6B678AAA9+381193]\n\tMicrosoft::Applications::Events::ILogConfiguration::operator* [0x00007FF6B67822A6+346374]\n\tBaseThreadInitThunk [0x00007FFC6B307374+20]\n\tRtlUserThreadStart [0x00007FFC6D1DCC91+33]\n",
     "output_type": "error",
     "traceback": [
      "\u001b[1;31m---------------------------------------------------------------------------\u001b[0m",
      "\u001b[1;31mNoSuchWindowException\u001b[0m                     Traceback (most recent call last)",
      "Cell \u001b[1;32mIn[105], line 8\u001b[0m\n\u001b[0;32m      6\u001b[0m browser\u001b[38;5;241m.\u001b[39mget(link)\n\u001b[0;32m      7\u001b[0m time\u001b[38;5;241m.\u001b[39msleep(\u001b[38;5;241m5\u001b[39m)\n\u001b[1;32m----> 8\u001b[0m soup \u001b[38;5;241m=\u001b[39m BeautifulSoup(\u001b[43mbrowser\u001b[49m\u001b[38;5;241;43m.\u001b[39;49m\u001b[43mpage_source\u001b[49m, \u001b[38;5;124m'\u001b[39m\u001b[38;5;124mhtml.parser\u001b[39m\u001b[38;5;124m'\u001b[39m)\n\u001b[0;32m     10\u001b[0m \u001b[38;5;28;01mtry\u001b[39;00m:\n\u001b[0;32m     11\u001b[0m     title \u001b[38;5;241m=\u001b[39m soup\u001b[38;5;241m.\u001b[39mfind_all(\u001b[38;5;124m'\u001b[39m\u001b[38;5;124myt-formatted-string\u001b[39m\u001b[38;5;124m'\u001b[39m, class_ \u001b[38;5;241m=\u001b[39m \u001b[38;5;124m'\u001b[39m\u001b[38;5;124mstyle-scope ytd-video-primary-info-renderer\u001b[39m\u001b[38;5;124m'\u001b[39m)[\u001b[38;5;241m0\u001b[39m]\u001b[38;5;241m.\u001b[39mtext\n",
      "File \u001b[1;32m~\\AppData\\Local\\Programs\\Python\\Python310\\lib\\site-packages\\selenium\\webdriver\\remote\\webdriver.py:455\u001b[0m, in \u001b[0;36mWebDriver.page_source\u001b[1;34m(self)\u001b[0m\n\u001b[0;32m    446\u001b[0m \u001b[38;5;129m@property\u001b[39m\n\u001b[0;32m    447\u001b[0m \u001b[38;5;28;01mdef\u001b[39;00m \u001b[38;5;21mpage_source\u001b[39m(\u001b[38;5;28mself\u001b[39m) \u001b[38;5;241m-\u001b[39m\u001b[38;5;241m>\u001b[39m \u001b[38;5;28mstr\u001b[39m:\n\u001b[0;32m    448\u001b[0m \u001b[38;5;250m    \u001b[39m\u001b[38;5;124;03m\"\"\"Gets the source of the current page.\u001b[39;00m\n\u001b[0;32m    449\u001b[0m \n\u001b[0;32m    450\u001b[0m \u001b[38;5;124;03m    :Usage:\u001b[39;00m\n\u001b[1;32m   (...)\u001b[0m\n\u001b[0;32m    453\u001b[0m \u001b[38;5;124;03m            driver.page_source\u001b[39;00m\n\u001b[0;32m    454\u001b[0m \u001b[38;5;124;03m    \"\"\"\u001b[39;00m\n\u001b[1;32m--> 455\u001b[0m     \u001b[38;5;28;01mreturn\u001b[39;00m \u001b[38;5;28;43mself\u001b[39;49m\u001b[38;5;241;43m.\u001b[39;49m\u001b[43mexecute\u001b[49m\u001b[43m(\u001b[49m\u001b[43mCommand\u001b[49m\u001b[38;5;241;43m.\u001b[39;49m\u001b[43mGET_PAGE_SOURCE\u001b[49m\u001b[43m)\u001b[49m[\u001b[38;5;124m\"\u001b[39m\u001b[38;5;124mvalue\u001b[39m\u001b[38;5;124m\"\u001b[39m]\n",
      "File \u001b[1;32m~\\AppData\\Local\\Programs\\Python\\Python310\\lib\\site-packages\\selenium\\webdriver\\remote\\webdriver.py:354\u001b[0m, in \u001b[0;36mWebDriver.execute\u001b[1;34m(self, driver_command, params)\u001b[0m\n\u001b[0;32m    352\u001b[0m response \u001b[38;5;241m=\u001b[39m \u001b[38;5;28mself\u001b[39m\u001b[38;5;241m.\u001b[39mcommand_executor\u001b[38;5;241m.\u001b[39mexecute(driver_command, params)\n\u001b[0;32m    353\u001b[0m \u001b[38;5;28;01mif\u001b[39;00m response:\n\u001b[1;32m--> 354\u001b[0m     \u001b[38;5;28;43mself\u001b[39;49m\u001b[38;5;241;43m.\u001b[39;49m\u001b[43merror_handler\u001b[49m\u001b[38;5;241;43m.\u001b[39;49m\u001b[43mcheck_response\u001b[49m\u001b[43m(\u001b[49m\u001b[43mresponse\u001b[49m\u001b[43m)\u001b[49m\n\u001b[0;32m    355\u001b[0m     response[\u001b[38;5;124m\"\u001b[39m\u001b[38;5;124mvalue\u001b[39m\u001b[38;5;124m\"\u001b[39m] \u001b[38;5;241m=\u001b[39m \u001b[38;5;28mself\u001b[39m\u001b[38;5;241m.\u001b[39m_unwrap_value(response\u001b[38;5;241m.\u001b[39mget(\u001b[38;5;124m\"\u001b[39m\u001b[38;5;124mvalue\u001b[39m\u001b[38;5;124m\"\u001b[39m, \u001b[38;5;28;01mNone\u001b[39;00m))\n\u001b[0;32m    356\u001b[0m     \u001b[38;5;28;01mreturn\u001b[39;00m response\n",
      "File \u001b[1;32m~\\AppData\\Local\\Programs\\Python\\Python310\\lib\\site-packages\\selenium\\webdriver\\remote\\errorhandler.py:229\u001b[0m, in \u001b[0;36mErrorHandler.check_response\u001b[1;34m(self, response)\u001b[0m\n\u001b[0;32m    227\u001b[0m         alert_text \u001b[38;5;241m=\u001b[39m value[\u001b[38;5;124m\"\u001b[39m\u001b[38;5;124malert\u001b[39m\u001b[38;5;124m\"\u001b[39m]\u001b[38;5;241m.\u001b[39mget(\u001b[38;5;124m\"\u001b[39m\u001b[38;5;124mtext\u001b[39m\u001b[38;5;124m\"\u001b[39m)\n\u001b[0;32m    228\u001b[0m     \u001b[38;5;28;01mraise\u001b[39;00m exception_class(message, screen, stacktrace, alert_text)  \u001b[38;5;66;03m# type: ignore[call-arg]  # mypy is not smart enough here\u001b[39;00m\n\u001b[1;32m--> 229\u001b[0m \u001b[38;5;28;01mraise\u001b[39;00m exception_class(message, screen, stacktrace)\n",
      "\u001b[1;31mNoSuchWindowException\u001b[0m: Message: no such window: target window already closed\nfrom unknown error: web view not found\n  (Session info: MicrosoftEdge=130.0.2849.80)\nStacktrace:\n\tGetHandleVerifier [0x00007FF6B67EDC85+12853]\n\tMicrosoft::Applications::Events::EventProperty::empty [0x00007FF6B6A983E4+2250292]\n\tMicrosoft::Applications::Events::EventProperty::empty [0x00007FF6B69D76B6+1460486]\n\t(No symbol) [0x00007FF6B65884C7]\n\t(No symbol) [0x00007FF6B660CBED]\n\t(No symbol) [0x00007FF6B6620D7A]\n\t(No symbol) [0x00007FF6B6608163]\n\t(No symbol) [0x00007FF6B65DFB54]\n\t(No symbol) [0x00007FF6B65DF000]\n\t(No symbol) [0x00007FF6B65DF741]\n\tMicrosoft::Applications::Events::EventProperty::empty [0x00007FF6B696CDC4+1024020]\n\tMicrosoft::Applications::Events::EventProperty::~EventProperty [0x00007FF6B6709A04+57108]\n\tMicrosoft::Applications::Events::EventProperty::empty [0x00007FF6B696BDC3+1019923]\n\tMicrosoft::Applications::Events::EventProperty::empty [0x00007FF6B696BA29+1019001]\n\tMicrosoft::Applications::Events::ILogConfiguration::operator* [0x00007FF6B678E041+394913]\n\tMicrosoft::Applications::Events::ILogConfiguration::operator* [0x00007FF6B678A964+380868]\n\tMicrosoft::Applications::Events::ILogConfiguration::operator* [0x00007FF6B678AAA9+381193]\n\tMicrosoft::Applications::Events::ILogConfiguration::operator* [0x00007FF6B67822A6+346374]\n\tBaseThreadInitThunk [0x00007FFC6B307374+20]\n\tRtlUserThreadStart [0x00007FFC6D1DCC91+33]\n"
     ]
    }
   ],
   "source": [
    "time.sleep(2)\n",
    "\n",
    "data = []\n",
    " \n",
    "for link in tqdm(df['video_link'], desc = \"Processing\"):\n",
    "    browser.get(link)\n",
    "    time.sleep(5)\n",
    "    soup = BeautifulSoup(browser.page_source, 'html.parser')\n",
    "\n",
    "    try:\n",
    "        title = soup.find_all('yt-formatted-string', class_ = 'style-scope ytd-video-primary-info-renderer')[0].text\n",
    "    except:\n",
    "        title = np.nan\n",
    "        \n",
    "    try:\n",
    "        view = soup.find('span' , class_ = 'view-count style-scope ytd-video-view-count-renderer').text\n",
    "    except:\n",
    "        view = np.nan\n",
    "        \n",
    "    try:\n",
    "        date_time = soup.find_all('yt-formatted-string', class_ = 'style-scope ytd-video-primary-info-renderer')[1].text\n",
    "    except:\n",
    "        date_time = np.nan\n",
    "        \n",
    "    try:\n",
    "        like = soup.find('yt-formatted-string', class_ = 'style-scope ytd-toggle-button-renderer style-text').text\n",
    "    except:\n",
    "        like = np.nan\n",
    "        \n",
    "    try:\n",
    "        description = soup.find('yt-formatted-string', class_ = 'content style-scope ytd-video-secondary-info-renderer').text\n",
    "    except:\n",
    "        description = np.nan\n",
    "        \n",
    "    data.append([title , date_time, like, view, link, description])\n",
    "    print([title , date_time, like, view, link, description])"
   ]
  },
  {
   "cell_type": "code",
   "execution_count": null,
   "id": "1038f1b3",
   "metadata": {},
   "outputs": [],
   "source": [
    "df = pd.DataFrame(data, columns = ['title' , 'date_time', 'likes', 'views', 'link' , 'description'])"
   ]
  },
  {
   "cell_type": "code",
   "execution_count": null,
   "id": "d271ba93",
   "metadata": {},
   "outputs": [],
   "source": [
    "df.to_csv('GFG.csv', index = False)"
   ]
  },
  {
   "cell_type": "code",
   "execution_count": null,
   "id": "ad8f53cd",
   "metadata": {},
   "outputs": [],
   "source": []
  },
  {
   "cell_type": "code",
   "execution_count": null,
   "id": "0598a66f",
   "metadata": {},
   "outputs": [],
   "source": []
  },
  {
   "cell_type": "code",
   "execution_count": null,
   "id": "9709b2d0",
   "metadata": {},
   "outputs": [],
   "source": []
  }
 ],
 "metadata": {
  "kernelspec": {
   "display_name": "Python 3 (ipykernel)",
   "language": "python",
   "name": "python3"
  },
  "language_info": {
   "codemirror_mode": {
    "name": "ipython",
    "version": 3
   },
   "file_extension": ".py",
   "mimetype": "text/x-python",
   "name": "python",
   "nbconvert_exporter": "python",
   "pygments_lexer": "ipython3",
   "version": "3.10.6"
  }
 },
 "nbformat": 4,
 "nbformat_minor": 5
}

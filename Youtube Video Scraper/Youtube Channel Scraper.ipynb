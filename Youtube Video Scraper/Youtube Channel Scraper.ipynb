{
 "cells": [
  {
   "cell_type": "markdown",
   "id": "cdf5b142",
   "metadata": {},
   "source": [
    "### Import Libraries"
   ]
  },
  {
   "cell_type": "code",
   "execution_count": 18,
   "id": "28d2b568",
   "metadata": {},
   "outputs": [],
   "source": [
    "import requests\n",
    "from datetime import datetime\n",
    "from bs4 import BeautifulSoup\n",
    "from selenium import webdriver\n",
    "import chromedriver_binary\n",
    "import pandas as pd\n",
    "import numpy as np\n",
    "import time\n",
    "from tqdm import tqdm"
   ]
  },
  {
   "cell_type": "markdown",
   "id": "32fd98f3",
   "metadata": {},
   "source": [
    "### Setting-up Selenium"
   ]
  },
  {
   "cell_type": "code",
   "execution_count": 19,
   "id": "916484ff",
   "metadata": {},
   "outputs": [],
   "source": [
    "# !pip install selenium\n",
    "# !pip install chromedriver_binary\n"
   ]
  },
  {
   "cell_type": "markdown",
   "id": "302dc604",
   "metadata": {},
   "source": [
    "### Connecting Web Driver"
   ]
  },
  {
   "cell_type": "code",
   "execution_count": 20,
   "id": "0c3eda76",
   "metadata": {},
   "outputs": [],
   "source": [
    "browser = webdriver.Edge()\n",
    "browser.get(\"https://www.youtube.com/c/GeeksforGeeksVideos/videos\")"
   ]
  },
  {
   "cell_type": "code",
   "execution_count": 21,
   "id": "215998db",
   "metadata": {},
   "outputs": [],
   "source": [
    "soup = BeautifulSoup(browser.page_source, \"html.parser\")"
   ]
  },
  {
   "cell_type": "code",
   "execution_count": 22,
   "id": "389b99f0",
   "metadata": {},
   "outputs": [
    {
     "name": "stderr",
     "output_type": "stream",
     "text": [
      "Processing: 21it [04:49, 13.77s/it]\n"
     ]
    }
   ],
   "source": [
    "time.sleep(3)\n",
    "pbar = tqdm(desc = \"Processing\")\n",
    "\n",
    "# Scroll until no new videos are loaded\n",
    "last_count = 0\n",
    "while True:\n",
    "    # Scroll down to the bottom of the page\n",
    "    browser.execute_script(\"window.scrollTo(0, document.documentElement.scrollHeight);\")\n",
    "    time.sleep(1)  # Wait for new content to load\n",
    "    \n",
    "    # Parse the page source and count the video elements\n",
    "    soup = BeautifulSoup(browser.page_source, \"html.parser\")\n",
    "    video_elements = soup.find_all(\"ytd-rich-grid-media\")\n",
    "    new_count = len(video_elements)\n",
    "    \n",
    "    # If no new videos are loaded, break the loop\n",
    "    if new_count == last_count:\n",
    "        break\n",
    "        \n",
    "    last_count = new_count\n",
    "    pbar.update(1)\n",
    "    \n",
    "pbar.close()"
   ]
  },
  {
   "cell_type": "markdown",
   "id": "1f5c4a0f",
   "metadata": {},
   "source": [
    "### Creating Data Frame"
   ]
  },
  {
   "cell_type": "code",
   "execution_count": 23,
   "id": "90dda43e",
   "metadata": {},
   "outputs": [
    {
     "name": "stderr",
     "output_type": "stream",
     "text": [
      "Processing: 100%|█████████████████████████████████████████████████████████████████| 1906/1906 [00:02<00:00, 883.66it/s]"
     ]
    },
    {
     "name": "stdout",
     "output_type": "stream",
     "text": [
      "1906\n"
     ]
    },
    {
     "name": "stderr",
     "output_type": "stream",
     "text": [
      "\n"
     ]
    }
   ],
   "source": [
    "curr_date = str(datetime.now()).split()[0]\n",
    "data = []\n",
    "\n",
    "for sp in tqdm(soup.find_all(\"ytd-rich-grid-media\"), desc = \"Processing\"):\n",
    "    video_link = \"https://www.youtube.com\" + sp.find(\"a\", class_ = \"yt-simple-endpoint focus-on-expand style-scope ytd-rich-grid-media\").get(\"href\")\n",
    "    \n",
    "    title = sp.find(\"a\", class_ = \"yt-simple-endpoint focus-on-expand style-scope ytd-rich-grid-media\").text\n",
    "    \n",
    "    try:\n",
    "        thumbnail_link = sp.find('img').get(\"src\").split(\"?\")[0]\n",
    "    except:\n",
    "        thumbnail_link = np.nan\n",
    "        \n",
    "    try:\n",
    "        duration = sp.find('span', class_ = \"style-scope ytd-thumbnail-overlay-time-status-renderer\").text.strip()\n",
    "    except:\n",
    "        duration = np.nan\n",
    "        \n",
    "    try:\n",
    "        views = sp.find_all('span', class_ = \"inline-metadata-item style-scope ytd-video-meta-block\")[0].text\n",
    "    except:\n",
    "        views = np.nan\n",
    "    \n",
    "    try:\n",
    "        date_time = sp.find_all('span', class_ = \"inline-metadata-item style-scope ytd-video-meta-block\")[1].text\n",
    "    except:\n",
    "        date_time = np.nan\n",
    "        \n",
    "    data.append([title, video_link, thumbnail_link, duration, views, date_time, curr_date])\n",
    "    \n",
    "print(len(data))"
   ]
  },
  {
   "cell_type": "code",
   "execution_count": 24,
   "id": "303a1817",
   "metadata": {},
   "outputs": [],
   "source": [
    "df = pd.DataFrame(data, columns = ['title', 'video_link', 'image_link', 'duration', 'views', 'upload_time', \"date_of_extraction\"])"
   ]
  },
  {
   "cell_type": "code",
   "execution_count": 25,
   "id": "7ad97af6",
   "metadata": {},
   "outputs": [
    {
     "data": {
      "text/plain": [
       "title                   0\n",
       "video_link              0\n",
       "image_link            426\n",
       "duration                0\n",
       "views                   0\n",
       "upload_time             0\n",
       "date_of_extraction      0\n",
       "dtype: int64"
      ]
     },
     "execution_count": 25,
     "metadata": {},
     "output_type": "execute_result"
    }
   ],
   "source": [
    "df.isnull().sum()"
   ]
  },
  {
   "cell_type": "code",
   "execution_count": 27,
   "id": "89a9d0e8",
   "metadata": {},
   "outputs": [
    {
     "data": {
      "text/html": [
       "<div>\n",
       "<style scoped>\n",
       "    .dataframe tbody tr th:only-of-type {\n",
       "        vertical-align: middle;\n",
       "    }\n",
       "\n",
       "    .dataframe tbody tr th {\n",
       "        vertical-align: top;\n",
       "    }\n",
       "\n",
       "    .dataframe thead th {\n",
       "        text-align: right;\n",
       "    }\n",
       "</style>\n",
       "<table border=\"1\" class=\"dataframe\">\n",
       "  <thead>\n",
       "    <tr style=\"text-align: right;\">\n",
       "      <th></th>\n",
       "      <th>title</th>\n",
       "      <th>video_link</th>\n",
       "      <th>image_link</th>\n",
       "      <th>duration</th>\n",
       "      <th>views</th>\n",
       "      <th>upload_time</th>\n",
       "      <th>date_of_extraction</th>\n",
       "    </tr>\n",
       "  </thead>\n",
       "  <tbody>\n",
       "    <tr>\n",
       "      <th>count</th>\n",
       "      <td>1906</td>\n",
       "      <td>1906</td>\n",
       "      <td>1480</td>\n",
       "      <td>1906</td>\n",
       "      <td>1906</td>\n",
       "      <td>1906</td>\n",
       "      <td>1906</td>\n",
       "    </tr>\n",
       "    <tr>\n",
       "      <th>unique</th>\n",
       "      <td>1897</td>\n",
       "      <td>1906</td>\n",
       "      <td>1480</td>\n",
       "      <td>838</td>\n",
       "      <td>385</td>\n",
       "      <td>26</td>\n",
       "      <td>1</td>\n",
       "    </tr>\n",
       "    <tr>\n",
       "      <th>top</th>\n",
       "      <td>Sort the given string using character search |...</td>\n",
       "      <td>https://www.youtube.com/watch?v=puDKP5_0Ol4</td>\n",
       "      <td>https://i.ytimg.com/vi/puDKP5_0Ol4/hqdefault.jpg</td>\n",
       "      <td>3:39</td>\n",
       "      <td>12K views</td>\n",
       "      <td>6 years ago</td>\n",
       "      <td>2024-11-16</td>\n",
       "    </tr>\n",
       "    <tr>\n",
       "      <th>freq</th>\n",
       "      <td>2</td>\n",
       "      <td>1</td>\n",
       "      <td>1</td>\n",
       "      <td>11</td>\n",
       "      <td>37</td>\n",
       "      <td>403</td>\n",
       "      <td>1906</td>\n",
       "    </tr>\n",
       "  </tbody>\n",
       "</table>\n",
       "</div>"
      ],
      "text/plain": [
       "                                                    title  \\\n",
       "count                                                1906   \n",
       "unique                                               1897   \n",
       "top     Sort the given string using character search |...   \n",
       "freq                                                    2   \n",
       "\n",
       "                                         video_link  \\\n",
       "count                                          1906   \n",
       "unique                                         1906   \n",
       "top     https://www.youtube.com/watch?v=puDKP5_0Ol4   \n",
       "freq                                              1   \n",
       "\n",
       "                                              image_link duration      views  \\\n",
       "count                                               1480     1906       1906   \n",
       "unique                                              1480      838        385   \n",
       "top     https://i.ytimg.com/vi/puDKP5_0Ol4/hqdefault.jpg     3:39  12K views   \n",
       "freq                                                   1       11         37   \n",
       "\n",
       "        upload_time date_of_extraction  \n",
       "count          1906               1906  \n",
       "unique           26                  1  \n",
       "top     6 years ago         2024-11-16  \n",
       "freq            403               1906  "
      ]
     },
     "execution_count": 27,
     "metadata": {},
     "output_type": "execute_result"
    }
   ],
   "source": [
    "df.describe()"
   ]
  },
  {
   "cell_type": "markdown",
   "id": "f00f43a4",
   "metadata": {},
   "source": [
    "### Saving Dataset in CSV Format"
   ]
  },
  {
   "cell_type": "code",
   "execution_count": 28,
   "id": "f398c747",
   "metadata": {},
   "outputs": [],
   "source": [
    "df.to_csv(\"youtube_data.csv\")"
   ]
  },
  {
   "cell_type": "markdown",
   "id": "43809c16",
   "metadata": {},
   "source": [
    "### Closing Browser Session"
   ]
  },
  {
   "cell_type": "code",
   "execution_count": 29,
   "id": "c67c584b",
   "metadata": {},
   "outputs": [],
   "source": [
    "browser.quit()"
   ]
  },
  {
   "cell_type": "code",
   "execution_count": 30,
   "id": "116d02fc",
   "metadata": {},
   "outputs": [
    {
     "data": {
      "text/html": [
       "<div>\n",
       "<style scoped>\n",
       "    .dataframe tbody tr th:only-of-type {\n",
       "        vertical-align: middle;\n",
       "    }\n",
       "\n",
       "    .dataframe tbody tr th {\n",
       "        vertical-align: top;\n",
       "    }\n",
       "\n",
       "    .dataframe thead th {\n",
       "        text-align: right;\n",
       "    }\n",
       "</style>\n",
       "<table border=\"1\" class=\"dataframe\">\n",
       "  <thead>\n",
       "    <tr style=\"text-align: right;\">\n",
       "      <th></th>\n",
       "      <th>title</th>\n",
       "      <th>video_link</th>\n",
       "      <th>image_link</th>\n",
       "      <th>duration</th>\n",
       "      <th>views</th>\n",
       "      <th>upload_time</th>\n",
       "      <th>date_of_extraction</th>\n",
       "    </tr>\n",
       "  </thead>\n",
       "  <tbody>\n",
       "    <tr>\n",
       "      <th>0</th>\n",
       "      <td>GfG 160 | 160 Days Daily DSA Problem Solving |...</td>\n",
       "      <td>https://www.youtube.com/watch?v=puDKP5_0Ol4</td>\n",
       "      <td>https://i.ytimg.com/vi/puDKP5_0Ol4/hqdefault.jpg</td>\n",
       "      <td>1:06</td>\n",
       "      <td>669 views</td>\n",
       "      <td>7 hours ago</td>\n",
       "      <td>2024-11-16</td>\n",
       "    </tr>\n",
       "    <tr>\n",
       "      <th>1</th>\n",
       "      <td>From Tier 3 College to Qualcomm as a Software ...</td>\n",
       "      <td>https://www.youtube.com/watch?v=1TnVdzwbzJo</td>\n",
       "      <td>https://i.ytimg.com/vi/1TnVdzwbzJo/hqdefault.jpg</td>\n",
       "      <td>19:15</td>\n",
       "      <td>678 views</td>\n",
       "      <td>1 day ago</td>\n",
       "      <td>2024-11-16</td>\n",
       "    </tr>\n",
       "    <tr>\n",
       "      <th>2</th>\n",
       "      <td>Why you will not get placed? | Save yourself Now</td>\n",
       "      <td>https://www.youtube.com/watch?v=b-6rmk233DU</td>\n",
       "      <td>https://i.ytimg.com/vi/b-6rmk233DU/hqdefault.jpg</td>\n",
       "      <td>7:00</td>\n",
       "      <td>1.7K views</td>\n",
       "      <td>4 days ago</td>\n",
       "      <td>2024-11-16</td>\n",
       "    </tr>\n",
       "    <tr>\n",
       "      <th>3</th>\n",
       "      <td>Y.O.G.I. | Your Own GeeksforGeeks Intelligence...</td>\n",
       "      <td>https://www.youtube.com/watch?v=rfyhmQYEJKE</td>\n",
       "      <td>https://i.ytimg.com/vi/rfyhmQYEJKE/hqdefault.jpg</td>\n",
       "      <td>0:42</td>\n",
       "      <td>856 views</td>\n",
       "      <td>4 days ago</td>\n",
       "      <td>2024-11-16</td>\n",
       "    </tr>\n",
       "    <tr>\n",
       "      <th>4</th>\n",
       "      <td>GeeksforGeeks Offline Classes- Visit for Free ...</td>\n",
       "      <td>https://www.youtube.com/watch?v=hDfjzq9m5vI</td>\n",
       "      <td>https://i.ytimg.com/vi/hDfjzq9m5vI/hqdefault.jpg</td>\n",
       "      <td>0:57</td>\n",
       "      <td>49K views</td>\n",
       "      <td>9 days ago</td>\n",
       "      <td>2024-11-16</td>\n",
       "    </tr>\n",
       "    <tr>\n",
       "      <th>...</th>\n",
       "      <td>...</td>\n",
       "      <td>...</td>\n",
       "      <td>...</td>\n",
       "      <td>...</td>\n",
       "      <td>...</td>\n",
       "      <td>...</td>\n",
       "      <td>...</td>\n",
       "    </tr>\n",
       "    <tr>\n",
       "      <th>1901</th>\n",
       "      <td>Length of shortest chain to reach a target wor...</td>\n",
       "      <td>https://www.youtube.com/watch?v=6pIC20wCm20</td>\n",
       "      <td>https://i.ytimg.com/vi/6pIC20wCm20/hqdefault.jpg</td>\n",
       "      <td>12:25</td>\n",
       "      <td>43K views</td>\n",
       "      <td>8 years ago</td>\n",
       "      <td>2024-11-16</td>\n",
       "    </tr>\n",
       "    <tr>\n",
       "      <th>1902</th>\n",
       "      <td>Binary Search | GeeksQuiz</td>\n",
       "      <td>https://www.youtube.com/watch?v=T2sFYY-fT5o</td>\n",
       "      <td>https://i.ytimg.com/vi/T2sFYY-fT5o/hqdefault.jpg</td>\n",
       "      <td>7:33</td>\n",
       "      <td>191K views</td>\n",
       "      <td>8 years ago</td>\n",
       "      <td>2024-11-16</td>\n",
       "    </tr>\n",
       "    <tr>\n",
       "      <th>1903</th>\n",
       "      <td>Number of Triangles in an Undirected Graph | G...</td>\n",
       "      <td>https://www.youtube.com/watch?v=ChdNz1Ui1uc</td>\n",
       "      <td>https://i.ytimg.com/vi/ChdNz1Ui1uc/hqdefault.jpg</td>\n",
       "      <td>8:44</td>\n",
       "      <td>19K views</td>\n",
       "      <td>8 years ago</td>\n",
       "      <td>2024-11-16</td>\n",
       "    </tr>\n",
       "    <tr>\n",
       "      <th>1904</th>\n",
       "      <td>Write a program to print all permutations of a...</td>\n",
       "      <td>https://www.youtube.com/watch?v=AfxHGNRtFac</td>\n",
       "      <td>https://i.ytimg.com/vi/AfxHGNRtFac/hqdefault.jpg</td>\n",
       "      <td>11:52</td>\n",
       "      <td>491K views</td>\n",
       "      <td>8 years ago</td>\n",
       "      <td>2024-11-16</td>\n",
       "    </tr>\n",
       "    <tr>\n",
       "      <th>1905</th>\n",
       "      <td>Longest Span with same Sum in two Binary array...</td>\n",
       "      <td>https://www.youtube.com/watch?v=xtfj4-r_Ahs</td>\n",
       "      <td>https://i.ytimg.com/vi/xtfj4-r_Ahs/hqdefault.jpg</td>\n",
       "      <td>20:26</td>\n",
       "      <td>305K views</td>\n",
       "      <td>8 years ago</td>\n",
       "      <td>2024-11-16</td>\n",
       "    </tr>\n",
       "  </tbody>\n",
       "</table>\n",
       "<p>1906 rows × 7 columns</p>\n",
       "</div>"
      ],
      "text/plain": [
       "                                                  title  \\\n",
       "0     GfG 160 | 160 Days Daily DSA Problem Solving |...   \n",
       "1     From Tier 3 College to Qualcomm as a Software ...   \n",
       "2      Why you will not get placed? | Save yourself Now   \n",
       "3     Y.O.G.I. | Your Own GeeksforGeeks Intelligence...   \n",
       "4     GeeksforGeeks Offline Classes- Visit for Free ...   \n",
       "...                                                 ...   \n",
       "1901  Length of shortest chain to reach a target wor...   \n",
       "1902                          Binary Search | GeeksQuiz   \n",
       "1903  Number of Triangles in an Undirected Graph | G...   \n",
       "1904  Write a program to print all permutations of a...   \n",
       "1905  Longest Span with same Sum in two Binary array...   \n",
       "\n",
       "                                       video_link  \\\n",
       "0     https://www.youtube.com/watch?v=puDKP5_0Ol4   \n",
       "1     https://www.youtube.com/watch?v=1TnVdzwbzJo   \n",
       "2     https://www.youtube.com/watch?v=b-6rmk233DU   \n",
       "3     https://www.youtube.com/watch?v=rfyhmQYEJKE   \n",
       "4     https://www.youtube.com/watch?v=hDfjzq9m5vI   \n",
       "...                                           ...   \n",
       "1901  https://www.youtube.com/watch?v=6pIC20wCm20   \n",
       "1902  https://www.youtube.com/watch?v=T2sFYY-fT5o   \n",
       "1903  https://www.youtube.com/watch?v=ChdNz1Ui1uc   \n",
       "1904  https://www.youtube.com/watch?v=AfxHGNRtFac   \n",
       "1905  https://www.youtube.com/watch?v=xtfj4-r_Ahs   \n",
       "\n",
       "                                            image_link duration       views  \\\n",
       "0     https://i.ytimg.com/vi/puDKP5_0Ol4/hqdefault.jpg     1:06   669 views   \n",
       "1     https://i.ytimg.com/vi/1TnVdzwbzJo/hqdefault.jpg    19:15   678 views   \n",
       "2     https://i.ytimg.com/vi/b-6rmk233DU/hqdefault.jpg     7:00  1.7K views   \n",
       "3     https://i.ytimg.com/vi/rfyhmQYEJKE/hqdefault.jpg     0:42   856 views   \n",
       "4     https://i.ytimg.com/vi/hDfjzq9m5vI/hqdefault.jpg     0:57   49K views   \n",
       "...                                                ...      ...         ...   \n",
       "1901  https://i.ytimg.com/vi/6pIC20wCm20/hqdefault.jpg    12:25   43K views   \n",
       "1902  https://i.ytimg.com/vi/T2sFYY-fT5o/hqdefault.jpg     7:33  191K views   \n",
       "1903  https://i.ytimg.com/vi/ChdNz1Ui1uc/hqdefault.jpg     8:44   19K views   \n",
       "1904  https://i.ytimg.com/vi/AfxHGNRtFac/hqdefault.jpg    11:52  491K views   \n",
       "1905  https://i.ytimg.com/vi/xtfj4-r_Ahs/hqdefault.jpg    20:26  305K views   \n",
       "\n",
       "      upload_time date_of_extraction  \n",
       "0     7 hours ago         2024-11-16  \n",
       "1       1 day ago         2024-11-16  \n",
       "2      4 days ago         2024-11-16  \n",
       "3      4 days ago         2024-11-16  \n",
       "4      9 days ago         2024-11-16  \n",
       "...           ...                ...  \n",
       "1901  8 years ago         2024-11-16  \n",
       "1902  8 years ago         2024-11-16  \n",
       "1903  8 years ago         2024-11-16  \n",
       "1904  8 years ago         2024-11-16  \n",
       "1905  8 years ago         2024-11-16  \n",
       "\n",
       "[1906 rows x 7 columns]"
      ]
     },
     "execution_count": 30,
     "metadata": {},
     "output_type": "execute_result"
    }
   ],
   "source": []
  },
  {
   "cell_type": "code",
   "execution_count": null,
   "id": "f0283c18",
   "metadata": {},
   "outputs": [],
   "source": []
  }
 ],
 "metadata": {
  "kernelspec": {
   "display_name": "Python 3 (ipykernel)",
   "language": "python",
   "name": "python3"
  },
  "language_info": {
   "codemirror_mode": {
    "name": "ipython",
    "version": 3
   },
   "file_extension": ".py",
   "mimetype": "text/x-python",
   "name": "python",
   "nbconvert_exporter": "python",
   "pygments_lexer": "ipython3",
   "version": "3.10.6"
  }
 },
 "nbformat": 4,
 "nbformat_minor": 5
}
